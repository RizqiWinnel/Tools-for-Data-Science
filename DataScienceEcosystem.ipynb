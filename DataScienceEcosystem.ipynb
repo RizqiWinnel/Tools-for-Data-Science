{
 "cells": [
  {
   "cell_type": "markdown",
   "id": "878a8d12-9dd8-4252-8666-703d1ab8e282",
   "metadata": {},
   "source": [
    "# **Data Science Tools and Ecosystem**"
   ]
  },
  {
   "cell_type": "markdown",
   "id": "8c2d347d-afb7-428f-a723-c1b43a7f6c5a",
   "metadata": {},
   "source": [
    "In this notebook, Data Science Tools and Ecosystem are summarized."
   ]
  },
  {
   "cell_type": "markdown",
   "id": "8f49abe7-ff37-42c9-b8e5-29165f09f4d5",
   "metadata": {},
   "source": [
    "Objectives:\n",
    "* List popular languages for Data Science\n",
    "* List commonly used libraries for Data Science\n",
    "* Knowing some of the popular tools for Data Science\n",
    "* Understanding how to evaluate arithmetic expression in Python"
   ]
  },
  {
   "cell_type": "markdown",
   "id": "aabed715-d06f-4c9b-bde1-b100046fc81e",
   "metadata": {},
   "source": [
    "Some of the popular languages that Data Scientist use are:\n",
    "1. Python\n",
    "2. SQL\n",
    "3. R\n",
    "4. Scala\n",
    "5. Julia"
   ]
  },
  {
   "cell_type": "markdown",
   "id": "f49f6831-63a0-4c99-86bc-4a8e137c7751",
   "metadata": {},
   "source": [
    "Some of the commonly used libraries used by Data Scientists include:\n",
    "1. NumPy\n",
    "2. Pandas\n",
    "3. Matplotlib\n",
    "4. Scikit-learn\n",
    "5. TensorFlow"
   ]
  },
  {
   "cell_type": "markdown",
   "id": "b301dd67-a5cc-4dcf-a578-a23098a4b7a0",
   "metadata": {},
   "source": [
    "| Data Science Tools |\n",
    "| ------------------ |\n",
    "| Visual Studio Code |\n",
    "| RStudio |\n",
    "| JupyterLab |"
   ]
  },
  {
   "cell_type": "markdown",
   "id": "5d9a9e7e-b2d2-4415-bf01-1ab20666dda4",
   "metadata": {},
   "source": [
    "### Below are a few examples of evaluating arithmetic expressions in Python"
   ]
  },
  {
   "cell_type": "code",
   "execution_count": 32,
   "id": "fac0d5b9-55fa-4628-9bd9-4e06fa66212d",
   "metadata": {},
   "outputs": [
    {
     "data": {
      "text/plain": [
       "17"
      ]
     },
     "execution_count": 32,
     "metadata": {},
     "output_type": "execute_result"
    }
   ],
   "source": [
    "# This a simple arithmetic expression to mutiply then add integers\n",
    "(3*4) + 5"
   ]
  },
  {
   "cell_type": "code",
   "execution_count": 30,
   "id": "8c7444fb-a9d5-4bbb-97c8-5d20783eefed",
   "metadata": {},
   "outputs": [
    {
     "name": "stdout",
     "output_type": "stream",
     "text": [
      "3 hours and 20 minutes\n"
     ]
    }
   ],
   "source": [
    "#This will convert 200 minutes to hours by dividing by 60, with integer division\n",
    "hours = 200 // 60\n",
    "\n",
    "#This will get the remainder to get leftover minutes, with 200 mod 60\n",
    "minutes = 200 % 60\n",
    "\n",
    "#print the hours and minutes\n",
    "print(f\"{hours} hours and {minutes} minutes\")"
   ]
  },
  {
   "cell_type": "markdown",
   "id": "88452a21-9c14-4901-90fc-07aee3d9f62f",
   "metadata": {},
   "source": [
    "## Author\n",
    "Muhammad Rizqi Winnel Adnin"
   ]
  }
 ],
 "metadata": {
  "kernelspec": {
   "display_name": "Python 3 (ipykernel)",
   "language": "python",
   "name": "python3"
  },
  "language_info": {
   "codemirror_mode": {
    "name": "ipython",
    "version": 3
   },
   "file_extension": ".py",
   "mimetype": "text/x-python",
   "name": "python",
   "nbconvert_exporter": "python",
   "pygments_lexer": "ipython3",
   "version": "3.12.7"
  }
 },
 "nbformat": 4,
 "nbformat_minor": 5
}
